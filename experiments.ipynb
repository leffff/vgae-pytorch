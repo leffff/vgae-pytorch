{
 "cells": [
  {
   "cell_type": "markdown",
   "id": "d3447cc3",
   "metadata": {},
   "source": [
    "# Import libraries"
   ]
  },
  {
   "cell_type": "code",
   "execution_count": 1,
   "id": "7cc48a27",
   "metadata": {
    "ExecuteTime": {
     "end_time": "2023-04-07T11:31:24.655413Z",
     "start_time": "2023-04-07T11:31:20.590074Z"
    }
   },
   "outputs": [],
   "source": [
    "import torch\n",
    "from torch import nn\n",
    "from torch.nn import CrossEntropyLoss\n",
    "from torch.optim import AdamW\n",
    "from torch.utils.data import Subset\n",
    "\n",
    "from tqdm.notebook import tqdm\n",
    "\n",
    "from torch_geometric.datasets import TUDataset\n",
    "from torch_geometric.loader import DataLoader\n",
    "from torch_geometric.nn import Sequential, GCNConv\n",
    "\n",
    "from sklearn.model_selection import train_test_split\n",
    "from sklearn.metrics import roc_auc_score\n",
    "\n",
    "from model import VGAE, Encoder, Decoder\n",
    "from loss import VGAELoss\n",
    "from utils import adj_matrix_from_edge_index"
   ]
  },
  {
   "cell_type": "markdown",
   "id": "a4892d62",
   "metadata": {},
   "source": [
    "# Config"
   ]
  },
  {
   "cell_type": "code",
   "execution_count": 2,
   "id": "bb8983c1",
   "metadata": {
    "ExecuteTime": {
     "end_time": "2023-04-07T11:33:36.655215Z",
     "start_time": "2023-04-07T11:33:36.650878Z"
    }
   },
   "outputs": [],
   "source": [
    "config = {\n",
    "    \"DEVICE\": \"cpu\",\n",
    "    \"EPOCHS\": 10,\n",
    "    \"LR\": 1e-3,\n",
    "    \"BATCH_SIZE\": 2,\n",
    "    \"SHUFFLE\": True,\n",
    "    \"TEST_SIZE\": 0.2,\n",
    "}"
   ]
  },
  {
   "cell_type": "markdown",
   "id": "a8ed00da",
   "metadata": {},
   "source": [
    "# Import our dataset"
   ]
  },
  {
   "cell_type": "code",
   "execution_count": 3,
   "id": "9f241eb8",
   "metadata": {
    "ExecuteTime": {
     "end_time": "2023-04-07T11:33:38.361048Z",
     "start_time": "2023-04-07T11:33:38.350213Z"
    }
   },
   "outputs": [],
   "source": [
    "dataset = TUDataset(root='/tmp/ENZYMES', name='ENZYMES', use_node_attr=True)\n",
    "\n",
    "train_idx, eval_idx = train_test_split(list(range(len(dataset))), test_size=config[\"TEST_SIZE\"])\n",
    "\n",
    "train_loader = DataLoader(Subset(dataset, train_idx), batch_size=config[\"BATCH_SIZE\"], shuffle=config[\"SHUFFLE\"])\n",
    "eval_loader = DataLoader(Subset(dataset, eval_idx), batch_size=config[\"BATCH_SIZE\"], shuffle=config[\"SHUFFLE\"])"
   ]
  },
  {
   "cell_type": "markdown",
   "id": "50fafa65",
   "metadata": {},
   "source": [
    "# Model"
   ]
  },
  {
   "cell_type": "code",
   "execution_count": 4,
   "id": "3934ae27",
   "metadata": {
    "ExecuteTime": {
     "end_time": "2023-04-07T11:33:38.576200Z",
     "start_time": "2023-04-07T11:33:38.534966Z"
    }
   },
   "outputs": [],
   "source": [
    "hidden_model = Sequential('x, edge_index, edge_attr', [\n",
    "    (GCNConv(dataset.num_features, 64), 'x, edge_index -> x1'),\n",
    "    nn.ReLU(inplace=True),\n",
    "    (GCNConv(64, 64), 'x1, edge_index -> x2'),\n",
    "    nn.ReLU(inplace=True),\n",
    "    (GCNConv(64, 64), 'x2, edge_index -> x3'),\n",
    "    nn.ReLU(inplace=True),\n",
    "\n",
    "])\n",
    "\n",
    "mean_model = Sequential('x, edge_index, edge_attr', [\n",
    "    (GCNConv(64, 64), 'x, edge_index -> x1'),\n",
    "    nn.ReLU(inplace=True),\n",
    "    (GCNConv(64, 64), 'x1, edge_index -> x2'),\n",
    "    nn.ReLU(inplace=True),\n",
    "\n",
    "])\n",
    "\n",
    "std_model = Sequential('x, edge_index, edge_attr', [\n",
    "    (GCNConv(64, 64), 'x, edge_index -> x1'),\n",
    "    nn.ReLU(inplace=True),\n",
    "    (GCNConv(64, 64), 'x1, edge_index -> x2'),\n",
    "    nn.ReLU(inplace=True),\n",
    "\n",
    "])\n",
    "\n",
    "encoder = Encoder(\n",
    "    hidden_model=hidden_model,\n",
    "    mean_model=mean_model,\n",
    "    std_model=std_model\n",
    ")\n",
    "\n",
    "decoder = Decoder()"
   ]
  },
  {
   "cell_type": "markdown",
   "id": "b2a6f42f",
   "metadata": {
    "ExecuteTime": {
     "end_time": "2023-04-06T23:22:47.560297Z",
     "start_time": "2023-04-06T23:22:47.555749Z"
    }
   },
   "source": [
    "# Training"
   ]
  },
  {
   "cell_type": "code",
   "execution_count": 5,
   "id": "75fed33c",
   "metadata": {
    "ExecuteTime": {
     "end_time": "2023-04-07T11:33:38.729087Z",
     "start_time": "2023-04-07T11:33:38.721690Z"
    }
   },
   "outputs": [],
   "source": [
    "def train_epoch(model, loader, loss_function, optimizer, device):\n",
    "    model.train()\n",
    "    model.to(device)\n",
    "    loss_function.to(device)\n",
    "    \n",
    "    preds = []\n",
    "    targets = []\n",
    "    total_loss = 0.\n",
    "    \n",
    "    for batch in tqdm(loader):\n",
    "        adj = adj_matrix_from_edge_index(batch.x, batch.edge_index)\n",
    "        \n",
    "        optimizer.zero_grad()\n",
    "        adj_output, mu, logvar = model(batch)\n",
    "\n",
    "        loss = loss_function(adj_output, mu, logvar, adj)\n",
    "        \n",
    "        total_loss += loss.item()\n",
    "        \n",
    "        loss.backward()\n",
    "        torch.nn.utils.clip_grad_norm_(model.parameters(), 1.0)\n",
    "        optimizer.step()\n",
    "        \n",
    "        preds.append(adj_output.flatten())\n",
    "        targets.append(adj.flatten())\n",
    "    \n",
    "    preds = torch.cat(preds, dim=0).sigmoid().detach().cpu().numpy()\n",
    "    targets = torch.cat(targets, dim=0).detach().cpu().numpy()\n",
    "    roc_auc = roc_auc_score(targets, preds)\n",
    "\n",
    "    print(f\"TRAIN Loss: {total_loss}, ROC AUC: {roc_auc}\")\n",
    "        \n",
    "        \n",
    "def eval_epoch(model, loader, loss_function, device):\n",
    "    model.eval()\n",
    "    model.to(device)\n",
    "    loss_function.to(device)\n",
    "    \n",
    "    preds = []\n",
    "    targets = []\n",
    "    total_loss = 0.\n",
    "    \n",
    "    for batch in tqdm(loader): \n",
    "        adj = adj_matrix_from_edge_index(batch.x, batch.edge_index)\n",
    "        \n",
    "        with torch.no_grad():\n",
    "            adj_output, mu, logvar = model(batch)\n",
    "            loss = loss_function(adj_output, mu, logvar, adj)\n",
    "        \n",
    "        total_loss += loss.item()\n",
    "        \n",
    "                \n",
    "        preds.append(adj_output.flatten())\n",
    "        targets.append(adj.flatten())\n",
    "    \n",
    "    preds = torch.cat(preds, dim=0).sigmoid().detach().cpu().numpy()\n",
    "    targets = torch.cat(targets, dim=0).detach().cpu().numpy()\n",
    "    roc_auc = roc_auc_score(targets, preds)\n",
    "\n",
    "    print(f\"EVAL Loss: {total_loss}, ROC AUC: {roc_auc}\")"
   ]
  },
  {
   "cell_type": "code",
   "execution_count": 6,
   "id": "4e55f4da",
   "metadata": {
    "ExecuteTime": {
     "end_time": "2023-04-07T11:33:40.167433Z",
     "start_time": "2023-04-07T11:33:40.163090Z"
    }
   },
   "outputs": [],
   "source": [
    "model = VGAE(\n",
    "    encoder=encoder,\n",
    "    decoder=decoder\n",
    ")\n",
    "\n",
    "loss_function = VGAELoss(norm=2)\n",
    "\n",
    "optimizer = AdamW(params=model.parameters(), lr=config[\"LR\"])"
   ]
  },
  {
   "cell_type": "code",
   "execution_count": 7,
   "id": "b0b2154c",
   "metadata": {
    "ExecuteTime": {
     "end_time": "2023-04-07T11:33:58.722453Z",
     "start_time": "2023-04-07T11:33:40.379036Z"
    },
    "scrolled": false
   },
   "outputs": [
    {
     "data": {
      "application/vnd.jupyter.widget-view+json": {
       "model_id": "4d723687929e419d887de2cb0d21f3f9",
       "version_major": 2,
       "version_minor": 0
      },
      "text/plain": [
       "  0%|          | 0/240 [00:00<?, ?it/s]"
      ]
     },
     "metadata": {},
     "output_type": "display_data"
    },
    {
     "name": "stdout",
     "output_type": "stream",
     "text": [
      "TRAIN Loss: 1956400511.5910645, ROC AUC: 0.5094194370167905\n"
     ]
    },
    {
     "data": {
      "application/vnd.jupyter.widget-view+json": {
       "model_id": "1030ca23859c475a915ca58e8710c09f",
       "version_major": 2,
       "version_minor": 0
      },
      "text/plain": [
       "  0%|          | 0/60 [00:00<?, ?it/s]"
      ]
     },
     "metadata": {},
     "output_type": "display_data"
    },
    {
     "name": "stdout",
     "output_type": "stream",
     "text": [
      "EVAL Loss: 2153421.643310547, ROC AUC: 0.5590516156507831\n"
     ]
    },
    {
     "data": {
      "application/vnd.jupyter.widget-view+json": {
       "model_id": "758b50d2bf10491398f71d0bb5efd3d2",
       "version_major": 2,
       "version_minor": 0
      },
      "text/plain": [
       "  0%|          | 0/240 [00:00<?, ?it/s]"
      ]
     },
     "metadata": {},
     "output_type": "display_data"
    },
    {
     "name": "stdout",
     "output_type": "stream",
     "text": [
      "TRAIN Loss: 1017277.4483032227, ROC AUC: 0.5376699134056462\n"
     ]
    },
    {
     "data": {
      "application/vnd.jupyter.widget-view+json": {
       "model_id": "a0bec6b453844419901373952f7f8898",
       "version_major": 2,
       "version_minor": 0
      },
      "text/plain": [
       "  0%|          | 0/60 [00:00<?, ?it/s]"
      ]
     },
     "metadata": {},
     "output_type": "display_data"
    },
    {
     "name": "stdout",
     "output_type": "stream",
     "text": [
      "EVAL Loss: 1785433.9011230469, ROC AUC: 0.565318463668138\n"
     ]
    },
    {
     "data": {
      "application/vnd.jupyter.widget-view+json": {
       "model_id": "469218e17e504e3bbc20cfa765743b70",
       "version_major": 2,
       "version_minor": 0
      },
      "text/plain": [
       "  0%|          | 0/240 [00:00<?, ?it/s]"
      ]
     },
     "metadata": {},
     "output_type": "display_data"
    },
    {
     "name": "stdout",
     "output_type": "stream",
     "text": [
      "TRAIN Loss: 1039813.8815917969, ROC AUC: 0.5420008340629882\n"
     ]
    },
    {
     "data": {
      "application/vnd.jupyter.widget-view+json": {
       "model_id": "b690ff1df5f340898590dbff240800bd",
       "version_major": 2,
       "version_minor": 0
      },
      "text/plain": [
       "  0%|          | 0/60 [00:00<?, ?it/s]"
      ]
     },
     "metadata": {},
     "output_type": "display_data"
    },
    {
     "name": "stdout",
     "output_type": "stream",
     "text": [
      "EVAL Loss: 1896260.0495605469, ROC AUC: 0.5631713037618202\n"
     ]
    },
    {
     "data": {
      "application/vnd.jupyter.widget-view+json": {
       "model_id": "596331a7548a434880154e967296b047",
       "version_major": 2,
       "version_minor": 0
      },
      "text/plain": [
       "  0%|          | 0/240 [00:00<?, ?it/s]"
      ]
     },
     "metadata": {},
     "output_type": "display_data"
    },
    {
     "name": "stdout",
     "output_type": "stream",
     "text": [
      "TRAIN Loss: 3084743.5422973633, ROC AUC: 0.5724000919251624\n"
     ]
    },
    {
     "data": {
      "application/vnd.jupyter.widget-view+json": {
       "model_id": "63ef5e3c04a74c95b59f6432bd2e81d2",
       "version_major": 2,
       "version_minor": 0
      },
      "text/plain": [
       "  0%|          | 0/60 [00:00<?, ?it/s]"
      ]
     },
     "metadata": {},
     "output_type": "display_data"
    },
    {
     "name": "stdout",
     "output_type": "stream",
     "text": [
      "EVAL Loss: 8125558.408203125, ROC AUC: 0.5617781348233422\n"
     ]
    },
    {
     "data": {
      "application/vnd.jupyter.widget-view+json": {
       "model_id": "fb45ec19332d49ec8ca5fdad6e5ff483",
       "version_major": 2,
       "version_minor": 0
      },
      "text/plain": [
       "  0%|          | 0/240 [00:00<?, ?it/s]"
      ]
     },
     "metadata": {},
     "output_type": "display_data"
    },
    {
     "name": "stdout",
     "output_type": "stream",
     "text": [
      "TRAIN Loss: 1014292.0114746094, ROC AUC: 0.5587126258757157\n"
     ]
    },
    {
     "data": {
      "application/vnd.jupyter.widget-view+json": {
       "model_id": "5fc4c06dab0d4c89807d27ed3088ac3f",
       "version_major": 2,
       "version_minor": 0
      },
      "text/plain": [
       "  0%|          | 0/60 [00:00<?, ?it/s]"
      ]
     },
     "metadata": {},
     "output_type": "display_data"
    },
    {
     "name": "stdout",
     "output_type": "stream",
     "text": [
      "EVAL Loss: 7348085.2841796875, ROC AUC: 0.6369905271590965\n"
     ]
    },
    {
     "data": {
      "application/vnd.jupyter.widget-view+json": {
       "model_id": "0a607b4c3d5c45dabcdc50cc2338961a",
       "version_major": 2,
       "version_minor": 0
      },
      "text/plain": [
       "  0%|          | 0/240 [00:00<?, ?it/s]"
      ]
     },
     "metadata": {},
     "output_type": "display_data"
    },
    {
     "name": "stdout",
     "output_type": "stream",
     "text": [
      "TRAIN Loss: 1041931.3036499023, ROC AUC: 0.6155953556838267\n"
     ]
    },
    {
     "data": {
      "application/vnd.jupyter.widget-view+json": {
       "model_id": "bdfb8d06fcb947aeb1a3b0f69f73802d",
       "version_major": 2,
       "version_minor": 0
      },
      "text/plain": [
       "  0%|          | 0/60 [00:00<?, ?it/s]"
      ]
     },
     "metadata": {},
     "output_type": "display_data"
    },
    {
     "name": "stdout",
     "output_type": "stream",
     "text": [
      "EVAL Loss: 5463522.7392578125, ROC AUC: 0.6543351281736994\n"
     ]
    },
    {
     "data": {
      "application/vnd.jupyter.widget-view+json": {
       "model_id": "67746b9f37e54f789ab8ae8e0c0b59a0",
       "version_major": 2,
       "version_minor": 0
      },
      "text/plain": [
       "  0%|          | 0/240 [00:00<?, ?it/s]"
      ]
     },
     "metadata": {},
     "output_type": "display_data"
    },
    {
     "name": "stdout",
     "output_type": "stream",
     "text": [
      "TRAIN Loss: 1008825.8999023438, ROC AUC: 0.6172037906397804\n"
     ]
    },
    {
     "data": {
      "application/vnd.jupyter.widget-view+json": {
       "model_id": "662797bd0d2c487bbad3ddecd24093b0",
       "version_major": 2,
       "version_minor": 0
      },
      "text/plain": [
       "  0%|          | 0/60 [00:00<?, ?it/s]"
      ]
     },
     "metadata": {},
     "output_type": "display_data"
    },
    {
     "name": "stdout",
     "output_type": "stream",
     "text": [
      "EVAL Loss: 3640775.68359375, ROC AUC: 0.6374171065500491\n"
     ]
    },
    {
     "data": {
      "application/vnd.jupyter.widget-view+json": {
       "model_id": "92a5a989bbc24177ad18717478bd4af9",
       "version_major": 2,
       "version_minor": 0
      },
      "text/plain": [
       "  0%|          | 0/240 [00:00<?, ?it/s]"
      ]
     },
     "metadata": {},
     "output_type": "display_data"
    },
    {
     "name": "stdout",
     "output_type": "stream",
     "text": [
      "TRAIN Loss: 1008460.9428710938, ROC AUC: 0.6168987419226757\n"
     ]
    },
    {
     "data": {
      "application/vnd.jupyter.widget-view+json": {
       "model_id": "b1a350f2a1904966a115c2fcfe93ee82",
       "version_major": 2,
       "version_minor": 0
      },
      "text/plain": [
       "  0%|          | 0/60 [00:00<?, ?it/s]"
      ]
     },
     "metadata": {},
     "output_type": "display_data"
    },
    {
     "name": "stdout",
     "output_type": "stream",
     "text": [
      "EVAL Loss: 3804952.9736328125, ROC AUC: 0.6673395776282218\n"
     ]
    },
    {
     "data": {
      "application/vnd.jupyter.widget-view+json": {
       "model_id": "655846c1cb374df3a7cbfca99140904d",
       "version_major": 2,
       "version_minor": 0
      },
      "text/plain": [
       "  0%|          | 0/240 [00:00<?, ?it/s]"
      ]
     },
     "metadata": {},
     "output_type": "display_data"
    },
    {
     "name": "stdout",
     "output_type": "stream",
     "text": [
      "TRAIN Loss: 1007312.3347167969, ROC AUC: 0.6178571176117192\n"
     ]
    },
    {
     "data": {
      "application/vnd.jupyter.widget-view+json": {
       "model_id": "f70fc3e5e00048d9b24ef93fd0fb5c73",
       "version_major": 2,
       "version_minor": 0
      },
      "text/plain": [
       "  0%|          | 0/60 [00:00<?, ?it/s]"
      ]
     },
     "metadata": {},
     "output_type": "display_data"
    },
    {
     "name": "stdout",
     "output_type": "stream",
     "text": [
      "EVAL Loss: 3727371.849609375, ROC AUC: 0.6586989108474455\n"
     ]
    },
    {
     "data": {
      "application/vnd.jupyter.widget-view+json": {
       "model_id": "78f1902ec6414db4b4e10afcaf039607",
       "version_major": 2,
       "version_minor": 0
      },
      "text/plain": [
       "  0%|          | 0/240 [00:00<?, ?it/s]"
      ]
     },
     "metadata": {},
     "output_type": "display_data"
    },
    {
     "name": "stdout",
     "output_type": "stream",
     "text": [
      "TRAIN Loss: 1007379.8637695312, ROC AUC: 0.6222208583774522\n"
     ]
    },
    {
     "data": {
      "application/vnd.jupyter.widget-view+json": {
       "model_id": "5b6d3ad9afcb497585921a298baf4327",
       "version_major": 2,
       "version_minor": 0
      },
      "text/plain": [
       "  0%|          | 0/60 [00:00<?, ?it/s]"
      ]
     },
     "metadata": {},
     "output_type": "display_data"
    },
    {
     "name": "stdout",
     "output_type": "stream",
     "text": [
      "EVAL Loss: 2080051.7219238281, ROC AUC: 0.6835265984248047\n"
     ]
    }
   ],
   "source": [
    "for i in range(config[\"EPOCHS\"]):\n",
    "    train_epoch(\n",
    "        model=model, \n",
    "        loader=train_loader, \n",
    "        loss_function=loss_function, \n",
    "        optimizer=optimizer,\n",
    "        device=config[\"DEVICE\"]\n",
    "    )\n",
    "    \n",
    "    eval_epoch(\n",
    "        model=model, \n",
    "        loader=eval_loader, \n",
    "        loss_function=loss_function, \n",
    "        device=config[\"DEVICE\"]\n",
    "    )"
   ]
  },
  {
   "cell_type": "code",
   "execution_count": null,
   "id": "4ea09e5e",
   "metadata": {},
   "outputs": [],
   "source": []
  }
 ],
 "metadata": {
  "hide_input": false,
  "kernelspec": {
   "display_name": "Python 3 (ipykernel)",
   "language": "python",
   "name": "python3"
  },
  "language_info": {
   "codemirror_mode": {
    "name": "ipython",
    "version": 3
   },
   "file_extension": ".py",
   "mimetype": "text/x-python",
   "name": "python",
   "nbconvert_exporter": "python",
   "pygments_lexer": "ipython3",
   "version": "3.10.6"
  },
  "toc": {
   "base_numbering": 1,
   "nav_menu": {},
   "number_sections": true,
   "sideBar": true,
   "skip_h1_title": false,
   "title_cell": "Table of Contents",
   "title_sidebar": "Contents",
   "toc_cell": false,
   "toc_position": {},
   "toc_section_display": true,
   "toc_window_display": false
  },
  "varInspector": {
   "cols": {
    "lenName": 16,
    "lenType": 16,
    "lenVar": 40
   },
   "kernels_config": {
    "python": {
     "delete_cmd_postfix": "",
     "delete_cmd_prefix": "del ",
     "library": "var_list.py",
     "varRefreshCmd": "print(var_dic_list())"
    },
    "r": {
     "delete_cmd_postfix": ") ",
     "delete_cmd_prefix": "rm(",
     "library": "var_list.r",
     "varRefreshCmd": "cat(var_dic_list()) "
    }
   },
   "types_to_exclude": [
    "module",
    "function",
    "builtin_function_or_method",
    "instance",
    "_Feature"
   ],
   "window_display": false
  }
 },
 "nbformat": 4,
 "nbformat_minor": 5
}
