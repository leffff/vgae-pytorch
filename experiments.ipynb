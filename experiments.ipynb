{
 "cells": [
  {
   "cell_type": "markdown",
   "id": "d3447cc3",
   "metadata": {},
   "source": [
    "# Import libraries"
   ]
  },
  {
   "cell_type": "code",
   "execution_count": 1,
   "id": "7cc48a27",
   "metadata": {},
   "outputs": [],
   "source": [
    "from torch_geometric.utils import scatter\n",
    "from torch_geometric.datasets import TUDataset\n",
    "from torch_geometric.loader import DataLoader"
   ]
  },
  {
   "cell_type": "markdown",
   "id": "a4892d62",
   "metadata": {},
   "source": [
    "# Config"
   ]
  },
  {
   "cell_type": "code",
   "execution_count": 2,
   "id": "bb8983c1",
   "metadata": {},
   "outputs": [],
   "source": [
    "config = {\n",
    "    \"DEVICE\": \"cuda\"\n",
    "}"
   ]
  },
  {
   "cell_type": "markdown",
   "id": "a8ed00da",
   "metadata": {},
   "source": [
    "# Import our dataset"
   ]
  },
  {
   "cell_type": "code",
   "execution_count": 3,
   "id": "9f241eb8",
   "metadata": {},
   "outputs": [],
   "source": [
    "dataset = TUDataset(root='/tmp/ENZYMES', name='ENZYMES', use_node_attr=True)\n",
    "loader = DataLoader(dataset, batch_size=32, shuffle=True)"
   ]
  },
  {
   "cell_type": "code",
   "execution_count": 4,
   "id": "75fed33c",
   "metadata": {},
   "outputs": [],
   "source": [
    "for data_batch in loader:\n",
    "    x, edge_index, edge_attr, y, batch = data_batch.x, data_batch.edge_index, data_batch.edge_attr, data_batch.y, data_batch.batch"
   ]
  }
 ],
 "metadata": {
  "kernelspec": {
   "display_name": "Python 3 (ipykernel)",
   "language": "python",
   "name": "python3"
  },
  "language_info": {
   "codemirror_mode": {
    "name": "ipython",
    "version": 3
   },
   "file_extension": ".py",
   "mimetype": "text/x-python",
   "name": "python",
   "nbconvert_exporter": "python",
   "pygments_lexer": "ipython3",
   "version": "3.10.6"
  }
 },
 "nbformat": 4,
 "nbformat_minor": 5
}
