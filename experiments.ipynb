{
 "cells": [
  {
   "cell_type": "markdown",
   "id": "d3447cc3",
   "metadata": {},
   "source": [
    "# Import libraries"
   ]
  },
  {
   "cell_type": "code",
   "execution_count": 1,
   "id": "7cc48a27",
   "metadata": {
    "ExecuteTime": {
     "end_time": "2023-04-07T11:31:24.655413Z",
     "start_time": "2023-04-07T11:31:20.590074Z"
    }
   },
   "outputs": [],
   "source": [
    "import torch\n",
    "from torch import nn\n",
    "from torch.nn import CrossEntropyLoss\n",
    "from torch.optim import AdamW\n",
    "from torch.utils.data import Subset\n",
    "\n",
    "from tqdm.notebook import tqdm\n",
    "\n",
    "from torch_geometric.utils import scatter\n",
    "from torch_geometric.datasets import TUDataset\n",
    "from torch_geometric.loader import DataLoader\n",
    "from torch_geometric.nn import Sequential, GCNConv\n",
    "\n",
    "from sklearn.model_selection import train_test_split\n",
    "\n",
    "from model import VGAE, Encoder, Decoder"
   ]
  },
  {
   "cell_type": "markdown",
   "id": "a4892d62",
   "metadata": {},
   "source": [
    "# Config"
   ]
  },
  {
   "cell_type": "code",
   "execution_count": 18,
   "id": "bb8983c1",
   "metadata": {
    "ExecuteTime": {
     "end_time": "2023-04-07T11:33:36.655215Z",
     "start_time": "2023-04-07T11:33:36.650878Z"
    }
   },
   "outputs": [],
   "source": [
    "config = {\n",
    "    \"DEVICE\": \"cpu\",\n",
    "    \"EPOCHS\": 10,\n",
    "    \"LR\": 1e-4,\n",
    "    \"BATCH_SIZE\": 2,\n",
    "    \"SHUFFLE\": True,\n",
    "    \"TEST_SIZE\": 0.2,\n",
    "}"
   ]
  },
  {
   "cell_type": "markdown",
   "id": "a8ed00da",
   "metadata": {},
   "source": [
    "# Import our dataset"
   ]
  },
  {
   "cell_type": "code",
   "execution_count": 19,
   "id": "9f241eb8",
   "metadata": {
    "ExecuteTime": {
     "end_time": "2023-04-07T11:33:38.361048Z",
     "start_time": "2023-04-07T11:33:38.350213Z"
    }
   },
   "outputs": [],
   "source": [
    "dataset = TUDataset(root='/tmp/ENZYMES', name='ENZYMES', use_node_attr=True)\n",
    "\n",
    "train_idx, eval_idx = train_test_split(list(range(len(dataset))), test_size=config[\"TEST_SIZE\"])\n",
    "\n",
    "train_loader = DataLoader(Subset(dataset, train_idx), batch_size=config[\"BATCH_SIZE\"], shuffle=config[\"SHUFFLE\"])\n",
    "eval_loader = DataLoader(Subset(dataset, eval_idx), batch_size=config[\"BATCH_SIZE\"], shuffle=config[\"SHUFFLE\"])"
   ]
  },
  {
   "cell_type": "markdown",
   "id": "50fafa65",
   "metadata": {},
   "source": [
    "# Model"
   ]
  },
  {
   "cell_type": "code",
   "execution_count": 20,
   "id": "3934ae27",
   "metadata": {
    "ExecuteTime": {
     "end_time": "2023-04-07T11:33:38.576200Z",
     "start_time": "2023-04-07T11:33:38.534966Z"
    }
   },
   "outputs": [],
   "source": [
    "hidden_model = Sequential('x, edge_index, edge_attr', [\n",
    "    (GCNConv(dataset.num_features, 64), 'x, edge_index -> x1'),\n",
    "    nn.ReLU(inplace=True),\n",
    "    (GCNConv(64, 64), 'x1, edge_index -> x2'),\n",
    "    nn.ReLU(inplace=True),\n",
    "    (GCNConv(64, 64), 'x2, edge_index -> x3'),\n",
    "    nn.ReLU(inplace=True),\n",
    "\n",
    "])\n",
    "\n",
    "mean_model = Sequential('x, edge_index, edge_attr', [\n",
    "    (GCNConv(64, 64), 'x, edge_index -> x1'),\n",
    "    nn.ReLU(inplace=True),\n",
    "    (GCNConv(64, 64), 'x1, edge_index -> x2'),\n",
    "    nn.ReLU(inplace=True),\n",
    "\n",
    "])\n",
    "\n",
    "std_model = Sequential('x, edge_index, edge_attr', [\n",
    "    (GCNConv(64, 64), 'x, edge_index -> x1'),\n",
    "    nn.ReLU(inplace=True),\n",
    "    (GCNConv(64, 64), 'x1, edge_index -> x2'),\n",
    "    nn.ReLU(inplace=True),\n",
    "\n",
    "])\n",
    "\n",
    "encoder = Encoder(\n",
    "    hidden_model=hidden_model,\n",
    "    mean_model=mean_model,\n",
    "    std_model=std_model\n",
    ")\n",
    "\n",
    "decoder = Decoder()"
   ]
  },
  {
   "cell_type": "markdown",
   "id": "b2a6f42f",
   "metadata": {
    "ExecuteTime": {
     "end_time": "2023-04-06T23:22:47.560297Z",
     "start_time": "2023-04-06T23:22:47.555749Z"
    }
   },
   "source": [
    "# Training"
   ]
  },
  {
   "cell_type": "code",
   "execution_count": 21,
   "id": "75fed33c",
   "metadata": {
    "ExecuteTime": {
     "end_time": "2023-04-07T11:33:38.729087Z",
     "start_time": "2023-04-07T11:33:38.721690Z"
    }
   },
   "outputs": [],
   "source": [
    "def train_epoch(model, loader, loss_function, optimizer, device):\n",
    "    model.train()\n",
    "    model.to(device)\n",
    "    loss_function.to(device)\n",
    "    \n",
    "    total_loss = 0.\n",
    "    \n",
    "    for batch in tqdm(loader):\n",
    "        adj = torch.zeros((batch.x.shape[0], batch.x.shape[0]))\n",
    "        adj[batch.edge_index[0], batch.edge_index[1]] = 1\n",
    "        \n",
    "        optimizer.zero_grad()\n",
    "        adj_output, mu, logvar = model(batch)\n",
    "\n",
    "        loss = loss_function(adj_output.flatten(), adj.flatten())\n",
    "        \n",
    "        total_loss += loss.item()\n",
    "        \n",
    "        loss.backward()\n",
    "        torch.nn.utils.clip_grad_norm_(model.parameters(), 1.0)\n",
    "        optimizer.step()\n",
    "        \n",
    "    print(f\"TRAIN Loss: {total_loss}\")\n",
    "        \n",
    "        \n",
    "def eval_epoch(model, loader, loss_function, device):\n",
    "    model.eval()\n",
    "    model.to(device)\n",
    "    loss_function.to(device)\n",
    "    \n",
    "    total_loss = 0.\n",
    "    \n",
    "    for batch in tqdm(loader): \n",
    "        adj = torch.zeros((batch.x.shape[0], batch.x.shape[0]))\n",
    "        adj[batch.edge_index[0], batch.edge_index[1]] = 1\n",
    "        \n",
    "        with torch.no_grad():\n",
    "            adj_output, mu, logvar = model(batch)\n",
    "            loss = loss_function(adj_output.flatten(), adj.flatten())\n",
    "        \n",
    "        total_loss += loss.item()\n",
    "    \n",
    "    print(f\"EVAL Loss: {total_loss}\")"
   ]
  },
  {
   "cell_type": "code",
   "execution_count": 22,
   "id": "4e55f4da",
   "metadata": {
    "ExecuteTime": {
     "end_time": "2023-04-07T11:33:40.167433Z",
     "start_time": "2023-04-07T11:33:40.163090Z"
    }
   },
   "outputs": [],
   "source": [
    "model = VGAE(\n",
    "    encoder=encoder,\n",
    "    decoder=decoder\n",
    ")\n",
    "\n",
    "loss_function = CrossEntropyLoss()\n",
    "\n",
    "optimizer = AdamW(params=model.parameters(), lr=config[\"LR\"])"
   ]
  },
  {
   "cell_type": "code",
   "execution_count": 23,
   "id": "b0b2154c",
   "metadata": {
    "ExecuteTime": {
     "end_time": "2023-04-07T11:33:58.722453Z",
     "start_time": "2023-04-07T11:33:40.379036Z"
    },
    "scrolled": false
   },
   "outputs": [
    {
     "data": {
      "application/vnd.jupyter.widget-view+json": {
       "model_id": "c2997f4c93174951bd32caa8ea9fe71a",
       "version_major": 2,
       "version_minor": 0
      },
      "text/plain": [
       "  0%|          | 0/240 [00:00<?, ?it/s]"
      ]
     },
     "metadata": {},
     "output_type": "display_data"
    },
    {
     "name": "stdout",
     "output_type": "stream",
     "text": [
      "TRAIN Loss: 502899.2523803711\n"
     ]
    },
    {
     "data": {
      "application/vnd.jupyter.widget-view+json": {
       "model_id": "d84405c0491f4784b20de5db86544f11",
       "version_major": 2,
       "version_minor": 0
      },
      "text/plain": [
       "  0%|          | 0/60 [00:00<?, ?it/s]"
      ]
     },
     "metadata": {},
     "output_type": "display_data"
    },
    {
     "name": "stdout",
     "output_type": "stream",
     "text": [
      "EVAL Loss: 1160779.2059326172\n"
     ]
    },
    {
     "data": {
      "application/vnd.jupyter.widget-view+json": {
       "model_id": "6b022180c5b14fa980383a71060f4c64",
       "version_major": 2,
       "version_minor": 0
      },
      "text/plain": [
       "  0%|          | 0/240 [00:00<?, ?it/s]"
      ]
     },
     "metadata": {},
     "output_type": "display_data"
    },
    {
     "name": "stdout",
     "output_type": "stream",
     "text": [
      "TRAIN Loss: 502791.4272918701\n"
     ]
    },
    {
     "data": {
      "application/vnd.jupyter.widget-view+json": {
       "model_id": "2f86abe183e345a99862d5746c5bb418",
       "version_major": 2,
       "version_minor": 0
      },
      "text/plain": [
       "  0%|          | 0/60 [00:00<?, ?it/s]"
      ]
     },
     "metadata": {},
     "output_type": "display_data"
    },
    {
     "name": "stdout",
     "output_type": "stream",
     "text": [
      "EVAL Loss: 755476.1560058594\n"
     ]
    },
    {
     "data": {
      "application/vnd.jupyter.widget-view+json": {
       "model_id": "6dac0dcdfd54420ea19b3ef04a039b8d",
       "version_major": 2,
       "version_minor": 0
      },
      "text/plain": [
       "  0%|          | 0/240 [00:00<?, ?it/s]"
      ]
     },
     "metadata": {},
     "output_type": "display_data"
    },
    {
     "name": "stdout",
     "output_type": "stream",
     "text": [
      "TRAIN Loss: 502570.38720703125\n"
     ]
    },
    {
     "data": {
      "application/vnd.jupyter.widget-view+json": {
       "model_id": "9f0118e6061240139b8290355625fc27",
       "version_major": 2,
       "version_minor": 0
      },
      "text/plain": [
       "  0%|          | 0/60 [00:00<?, ?it/s]"
      ]
     },
     "metadata": {},
     "output_type": "display_data"
    },
    {
     "name": "stdout",
     "output_type": "stream",
     "text": [
      "EVAL Loss: 682573.5141601562\n"
     ]
    },
    {
     "data": {
      "application/vnd.jupyter.widget-view+json": {
       "model_id": "b81cb2bf475a44d18736bfc8b5f0d3c8",
       "version_major": 2,
       "version_minor": 0
      },
      "text/plain": [
       "  0%|          | 0/240 [00:00<?, ?it/s]"
      ]
     },
     "metadata": {},
     "output_type": "display_data"
    },
    {
     "name": "stdout",
     "output_type": "stream",
     "text": [
      "TRAIN Loss: 501179.42193603516\n"
     ]
    },
    {
     "data": {
      "application/vnd.jupyter.widget-view+json": {
       "model_id": "9949d24262c84fc1ac3d2cf7d808f980",
       "version_major": 2,
       "version_minor": 0
      },
      "text/plain": [
       "  0%|          | 0/60 [00:00<?, ?it/s]"
      ]
     },
     "metadata": {},
     "output_type": "display_data"
    },
    {
     "name": "stdout",
     "output_type": "stream",
     "text": [
      "EVAL Loss: 695980.3703613281\n"
     ]
    },
    {
     "data": {
      "application/vnd.jupyter.widget-view+json": {
       "model_id": "7fa18a01ea484c359d0ca974cd0cafaa",
       "version_major": 2,
       "version_minor": 0
      },
      "text/plain": [
       "  0%|          | 0/240 [00:00<?, ?it/s]"
      ]
     },
     "metadata": {},
     "output_type": "display_data"
    },
    {
     "name": "stdout",
     "output_type": "stream",
     "text": [
      "TRAIN Loss: 502565.59017944336\n"
     ]
    },
    {
     "data": {
      "application/vnd.jupyter.widget-view+json": {
       "model_id": "04626b006c6c4f30be237feb0a262b93",
       "version_major": 2,
       "version_minor": 0
      },
      "text/plain": [
       "  0%|          | 0/60 [00:00<?, ?it/s]"
      ]
     },
     "metadata": {},
     "output_type": "display_data"
    },
    {
     "name": "stdout",
     "output_type": "stream",
     "text": [
      "EVAL Loss: 689219.4141845703\n"
     ]
    },
    {
     "data": {
      "application/vnd.jupyter.widget-view+json": {
       "model_id": "a3bc32c0bfca4235989acf5e45a88528",
       "version_major": 2,
       "version_minor": 0
      },
      "text/plain": [
       "  0%|          | 0/240 [00:00<?, ?it/s]"
      ]
     },
     "metadata": {},
     "output_type": "display_data"
    },
    {
     "name": "stdout",
     "output_type": "stream",
     "text": [
      "TRAIN Loss: 502426.2296142578\n"
     ]
    },
    {
     "data": {
      "application/vnd.jupyter.widget-view+json": {
       "model_id": "b197c4be2e924bf6b747d4e633869039",
       "version_major": 2,
       "version_minor": 0
      },
      "text/plain": [
       "  0%|          | 0/60 [00:00<?, ?it/s]"
      ]
     },
     "metadata": {},
     "output_type": "display_data"
    },
    {
     "name": "stdout",
     "output_type": "stream",
     "text": [
      "EVAL Loss: 730646.8529052734\n"
     ]
    },
    {
     "data": {
      "application/vnd.jupyter.widget-view+json": {
       "model_id": "094d3074f45f4d48a6f57d1836d19ea3",
       "version_major": 2,
       "version_minor": 0
      },
      "text/plain": [
       "  0%|          | 0/240 [00:00<?, ?it/s]"
      ]
     },
     "metadata": {},
     "output_type": "display_data"
    },
    {
     "name": "stdout",
     "output_type": "stream",
     "text": [
      "TRAIN Loss: 503060.9334411621\n"
     ]
    },
    {
     "data": {
      "application/vnd.jupyter.widget-view+json": {
       "model_id": "00abdbc90d384bc79b2bf4503196981d",
       "version_major": 2,
       "version_minor": 0
      },
      "text/plain": [
       "  0%|          | 0/60 [00:00<?, ?it/s]"
      ]
     },
     "metadata": {},
     "output_type": "display_data"
    },
    {
     "name": "stdout",
     "output_type": "stream",
     "text": [
      "EVAL Loss: 662174.1577148438\n"
     ]
    },
    {
     "data": {
      "application/vnd.jupyter.widget-view+json": {
       "model_id": "7fe2ebfe8afd45a1a1b8c5d9a600233e",
       "version_major": 2,
       "version_minor": 0
      },
      "text/plain": [
       "  0%|          | 0/240 [00:00<?, ?it/s]"
      ]
     },
     "metadata": {},
     "output_type": "display_data"
    },
    {
     "name": "stdout",
     "output_type": "stream",
     "text": [
      "TRAIN Loss: 501806.31732177734\n"
     ]
    },
    {
     "data": {
      "application/vnd.jupyter.widget-view+json": {
       "model_id": "250025df9f234f32a6acc4a6f9970061",
       "version_major": 2,
       "version_minor": 0
      },
      "text/plain": [
       "  0%|          | 0/60 [00:00<?, ?it/s]"
      ]
     },
     "metadata": {},
     "output_type": "display_data"
    },
    {
     "name": "stdout",
     "output_type": "stream",
     "text": [
      "EVAL Loss: 611894.8481445312\n"
     ]
    },
    {
     "data": {
      "application/vnd.jupyter.widget-view+json": {
       "model_id": "224089df57954ea28544a8c024db0295",
       "version_major": 2,
       "version_minor": 0
      },
      "text/plain": [
       "  0%|          | 0/240 [00:00<?, ?it/s]"
      ]
     },
     "metadata": {},
     "output_type": "display_data"
    },
    {
     "name": "stdout",
     "output_type": "stream",
     "text": [
      "TRAIN Loss: 502155.2572937012\n"
     ]
    },
    {
     "data": {
      "application/vnd.jupyter.widget-view+json": {
       "model_id": "ea69584c88a8424b8d5188f5c2251059",
       "version_major": 2,
       "version_minor": 0
      },
      "text/plain": [
       "  0%|          | 0/60 [00:00<?, ?it/s]"
      ]
     },
     "metadata": {},
     "output_type": "display_data"
    },
    {
     "name": "stdout",
     "output_type": "stream",
     "text": [
      "EVAL Loss: 564789.8994140625\n"
     ]
    },
    {
     "data": {
      "application/vnd.jupyter.widget-view+json": {
       "model_id": "bcb08985df4d4b99a6d43fdc0c407497",
       "version_major": 2,
       "version_minor": 0
      },
      "text/plain": [
       "  0%|          | 0/240 [00:00<?, ?it/s]"
      ]
     },
     "metadata": {},
     "output_type": "display_data"
    },
    {
     "name": "stdout",
     "output_type": "stream",
     "text": [
      "TRAIN Loss: 502164.7787475586\n"
     ]
    },
    {
     "data": {
      "application/vnd.jupyter.widget-view+json": {
       "model_id": "400df61dabc14953923d4dff82b33ea8",
       "version_major": 2,
       "version_minor": 0
      },
      "text/plain": [
       "  0%|          | 0/60 [00:00<?, ?it/s]"
      ]
     },
     "metadata": {},
     "output_type": "display_data"
    },
    {
     "name": "stdout",
     "output_type": "stream",
     "text": [
      "EVAL Loss: 566677.2173461914\n"
     ]
    }
   ],
   "source": [
    "for i in range(config[\"EPOCHS\"]):\n",
    "    train_epoch(\n",
    "        model=model, \n",
    "        loader=train_loader, \n",
    "        loss_function=loss_function, \n",
    "        optimizer=optimizer,\n",
    "        device=config[\"DEVICE\"]\n",
    "    )\n",
    "    \n",
    "    eval_epoch(\n",
    "        model=model, \n",
    "        loader=eval_loader, \n",
    "        loss_function=loss_function, \n",
    "        device=config[\"DEVICE\"]\n",
    "    )"
   ]
  },
  {
   "cell_type": "code",
   "execution_count": null,
   "id": "3d9a1669",
   "metadata": {},
   "outputs": [],
   "source": []
  }
 ],
 "metadata": {
  "hide_input": false,
  "kernelspec": {
   "display_name": "Python 3 (ipykernel)",
   "language": "python",
   "name": "python3"
  },
  "language_info": {
   "codemirror_mode": {
    "name": "ipython",
    "version": 3
   },
   "file_extension": ".py",
   "mimetype": "text/x-python",
   "name": "python",
   "nbconvert_exporter": "python",
   "pygments_lexer": "ipython3",
   "version": "3.9.11"
  },
  "toc": {
   "base_numbering": 1,
   "nav_menu": {},
   "number_sections": true,
   "sideBar": true,
   "skip_h1_title": false,
   "title_cell": "Table of Contents",
   "title_sidebar": "Contents",
   "toc_cell": false,
   "toc_position": {},
   "toc_section_display": true,
   "toc_window_display": false
  },
  "varInspector": {
   "cols": {
    "lenName": 16,
    "lenType": 16,
    "lenVar": 40
   },
   "kernels_config": {
    "python": {
     "delete_cmd_postfix": "",
     "delete_cmd_prefix": "del ",
     "library": "var_list.py",
     "varRefreshCmd": "print(var_dic_list())"
    },
    "r": {
     "delete_cmd_postfix": ") ",
     "delete_cmd_prefix": "rm(",
     "library": "var_list.r",
     "varRefreshCmd": "cat(var_dic_list()) "
    }
   },
   "types_to_exclude": [
    "module",
    "function",
    "builtin_function_or_method",
    "instance",
    "_Feature"
   ],
   "window_display": false
  }
 },
 "nbformat": 4,
 "nbformat_minor": 5
}
